{
 "cells": [
  {
   "cell_type": "code",
   "execution_count": 1,
   "metadata": {},
   "outputs": [],
   "source": [
    "import sys,os\n",
    "sys.path.append(\"..\")\n",
    "\n",
    "import glob"
   ]
  },
  {
   "cell_type": "code",
   "execution_count": 2,
   "metadata": {},
   "outputs": [],
   "source": [
    "from Main.Preprocess_Sentinel_GRDH_data import Process_GRD_File\n",
    "from Main.Reproject_2_Common_Grid import power_transform, tifs_2_same_grid, cut_tifs"
   ]
  },
  {
   "cell_type": "code",
   "execution_count": null,
   "metadata": {},
   "outputs": [],
   "source": [
    "# Data paths\n",
    "Data_paths = (glob.glob(\"../Main/Data/S1?_IW_GRD?_*.zip\"))\n",
    "Data_paths = [x.replace('\\\\','/') for x in Data_paths]\n",
    "# Pre Process GRDH data\n",
    "Process_GRD = Process_GRD_File(Data_paths, pixsiz=10.0, extDEM_path=\" \")\n",
    "print(Process_GRD)"
   ]
  },
  {
   "cell_type": "code",
   "execution_count": null,
   "metadata": {},
   "outputs": [],
   "source": [
    "Pre_Processed_tifs = glob.glob('../Main/GRD_Processed/S1*/' + 'S1?_IW_GRDH_*Sigma0_??.tif')\n",
    "Pre_Processed_tifs = [x.replace('\\\\','/') for x in Pre_Processed_tifs]\n",
    "v = 0.1\n",
    "power_transform(Pre_Processed_tifs, v)"
   ]
  },
  {
   "cell_type": "code",
   "execution_count": null,
   "metadata": {},
   "outputs": [],
   "source": [
    "Ptf_tifs = glob.glob('../Main/GRD_Processed/S1*/' + 'S1?_IW_GRDH_*Sigma0_??_*Ptf.tif')\n",
    "Ptf_tifs = [x.replace('\\\\','/') for x in Ptf_tifs]\n",
    "# resampling to the same grid for all tif files\n",
    "tifs_2_same_grid(Ptf_tifs)"
   ]
  },
  {
   "cell_type": "code",
   "execution_count": null,
   "metadata": {},
   "outputs": [],
   "source": [
    "Reprojected_tifs = glob.glob('../Main/GRD_Processed/S1*/' + 'S1?_IW_GRDH_*Sigma0_??_Ptf_common_grid.tif')\n",
    "Reprojected_tifs = [x.replace('\\\\','/') for x in Reprojected_tifs]\n",
    "# masking data to overlap everywhere\n",
    "cut_tifs(Reprojected_tifs)"
   ]
  },
  {
   "cell_type": "code",
   "execution_count": null,
   "metadata": {},
   "outputs": [],
   "source": []
  }
 ],
 "metadata": {
  "kernelspec": {
   "display_name": "Rasterio_Base",
   "language": "python",
   "name": "rasterio_base"
  },
  "language_info": {
   "codemirror_mode": {
    "name": "ipython",
    "version": 3
   },
   "file_extension": ".py",
   "mimetype": "text/x-python",
   "name": "python",
   "nbconvert_exporter": "python",
   "pygments_lexer": "ipython3",
   "version": "3.8.3"
  }
 },
 "nbformat": 4,
 "nbformat_minor": 4
}
